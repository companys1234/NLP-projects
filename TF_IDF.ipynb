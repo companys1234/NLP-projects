{
  "nbformat": 4,
  "nbformat_minor": 0,
  "metadata": {
    "colab": {
      "provenance": []
    },
    "kernelspec": {
      "name": "python3",
      "display_name": "Python 3"
    },
    "language_info": {
      "name": "python"
    }
  },
  "cells": [
    {
      "cell_type": "code",
      "execution_count": 7,
      "metadata": {
        "colab": {
          "base_uri": "https://localhost:8080/"
        },
        "id": "JnFasQ1MxvD6",
        "outputId": "96386e7a-2e5a-4254-99af-c840dc07198d"
      },
      "outputs": [
        {
          "output_type": "stream",
          "name": "stdout",
          "text": [
            "TF-IDF матрица:\n",
            "[[0.81480247 0.         0.57973867 0.         0.        ]\n",
            " [0.         0.53404633 0.37997836 0.53404633 0.53404633]]\n",
            "\n",
            "Термины:\n",
            "['дереве' 'из' 'котик' 'машины' 'собаки']\n"
          ]
        }
      ],
      "source": [
        "from sklearn.feature_extraction.text import TfidfVectorizer\n",
        "\n",
        "# Пример набора документов\n",
        "documents = [\n",
        "    \"котик в дереве\",\n",
        "    \"котик из машины и собаки\",\n",
        "\n",
        "]\n",
        "\n",
        "# Создание объекта TfidfVectorizer\n",
        "vectorizer = TfidfVectorizer()\n",
        "\n",
        "# Применение TF-IDF к документам\n",
        "tfidf_matrix = vectorizer.fit_transform(documents)\n",
        "\n",
        "# Преобразование результата в массив для удобства просмотра\n",
        "tfidf_array = tfidf_matrix.toarray()\n",
        "\n",
        "# Вывод результата\n",
        "print(\"TF-IDF матрица:\")\n",
        "print(tfidf_array)\n",
        "\n",
        "# Вывод названий признаков (терминов)\n",
        "print(\"\\nТермины:\")\n",
        "print(vectorizer.get_feature_names_out())"
      ]
    }
  ]
}